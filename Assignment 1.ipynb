{
 "cells": [
  {
   "cell_type": "markdown",
   "id": "591d5033",
   "metadata": {},
   "source": [
    "# --------------------------------------MACHINE LEARNING------------------------------------------\n",
    "                                                      ASSIGNMENT 1\n"
   ]
  },
  {
   "cell_type": "markdown",
   "id": "84f61db8",
   "metadata": {},
   "source": [
    "_______________________________________________________________________________________________________________________________"
   ]
  },
  {
   "cell_type": "raw",
   "id": "ac25cf02",
   "metadata": {},
   "source": [
    "NAME : AFFAN S PATEL\n",
    "UNIVERSITY : RV COLLEGE OF ENGINEERING\n",
    "LOCATION: BANGALORE"
   ]
  },
  {
   "cell_type": "markdown",
   "id": "93ad2104",
   "metadata": {},
   "source": [
    "*******************************************************************************************************************************"
   ]
  },
  {
   "cell_type": "raw",
   "id": "ea12ad17",
   "metadata": {},
   "source": [
    "QUESTION 1:\n",
    "A company decided to give bonus of 5% to employee if his/her year of service is more than 5 years. Ask user for their salary and year of service and print the net bonus amount."
   ]
  },
  {
   "cell_type": "code",
   "execution_count": 5,
   "id": "1cebffa2",
   "metadata": {},
   "outputs": [
    {
     "name": "stdout",
     "output_type": "stream",
     "text": [
      "Enter your name: affan\n",
      "Enter the number of years served: 3\n",
      "Not eligible for bonus\n"
     ]
    }
   ],
   "source": [
    "name = input(\"Enter your name: \")\n",
    "service_years= int(input(\"Enter the number of years served: \" ))\n",
    "if service_years>5:\n",
    "    salary= int(input(\"Enter your salary: \"))\n",
    "    amount= salary+(salary*0.05)\n",
    "    print(\"5% bonus has been added to your salary\")\n",
    "    print(\"Your current amount is : \", amount)\n",
    "else:\n",
    "    print(\"Not eligible for bonus\")\n"
   ]
  },
  {
   "cell_type": "raw",
   "id": "7afbc8c1",
   "metadata": {},
   "source": [
    "QUESTION 2:\n",
    "A school has following rules for grading system: \n",
    "a. Below 25 - F \n",
    "b. 25 to 45 - E \n",
    "c. 45 to 50 - D \n",
    "d. 50 to 60 - C \n",
    "e. 60 to 80 - B \n",
    "f. Above 80 - A \n",
    "Ask user to enter marks and print the corresponding grade."
   ]
  },
  {
   "cell_type": "code",
   "execution_count": 7,
   "id": "fac0ee7a",
   "metadata": {},
   "outputs": [
    {
     "name": "stdout",
     "output_type": "stream",
     "text": [
      "Enter your name: affan\n",
      "Enter the marks you have obtained: 10000\n",
      "Invalid\n"
     ]
    }
   ],
   "source": [
    "name = input(\"Enter your name: \")\n",
    "marks= int(input(\"Enter the marks you have obtained: \"))\n",
    "if marks<25:\n",
    "    print(\"Your grade is F\")\n",
    "elif marks>=25 and marks<=45:\n",
    "    print(\"Your grade is E\")\n",
    "elif marks>45 and marks<=50:\n",
    "    print(\"Your grade is D\")\n",
    "elif marks>50 and marks<=60:\n",
    "    print(\"Your grade is C\")\n",
    "elif marks>60 and marks<=80:\n",
    "    print(\"Your grade is B\")\n",
    "elif marks>80 and marks<=100: #assuming total marks out of 100\n",
    "    print(\"Your grade is A\")\n",
    "else:\n",
    "    print(\"Invalid\")\n"
   ]
  },
  {
   "cell_type": "raw",
   "id": "a89f4d2f",
   "metadata": {},
   "source": [
    "QUESTION 3:\n",
    "A student will not be allowed to sit in exam if his/her attendance is less than 75%. Take following input from user \n",
    "a) Number of classes held \n",
    "b) Number of classes attended \n",
    "Print percentage of class attended and if the student is allowed to sit in exam or not."
   ]
  },
  {
   "cell_type": "code",
   "execution_count": 17,
   "id": "4d50a317",
   "metadata": {},
   "outputs": [
    {
     "name": "stdout",
     "output_type": "stream",
     "text": [
      "Enter the total number of classes held: 30\n",
      "Enter the classes attended: 24\n",
      "The attendance is:  80.0\n",
      "The student IS ELIGIBLE to sit in exam\n"
     ]
    }
   ],
   "source": [
    "total= int(input(\"Enter the total number of classes held: \"))\n",
    "attend= int(input(\"Enter the classes attended: \"))\n",
    "attendance= attend/total*100\n",
    "if attendance>=75:\n",
    "    print(\"The attendance is: \",attendance)\n",
    "    print(\"The student IS ELIGIBLE to sit in exam\")\n",
    "else:\n",
    "    print(\"The attendance is: \",attendance)\n",
    "    print(\"The student IS NOT ELIGIBLE to sit in exam\")\n"
   ]
  },
  {
   "cell_type": "raw",
   "id": "73ee66c3",
   "metadata": {},
   "source": [
    "QUESTION 4:\n",
    "Ask user to enter age, sex ( M or F ), marital status ( Y or N ) and then using following rules print their place of service. a)if employee is female, then she will work only in urban areas.\n",
    "b)if employee is a male and age is in between 20 to 40 then he may work in anywhere\n",
    "c)if employee is male and age is in between 40 t0 60 then he will work in urban areas only\n",
    "d)And any other input of age should print \"ERROR\"."
   ]
  },
  {
   "cell_type": "code",
   "execution_count": 31,
   "id": "bdd92206",
   "metadata": {},
   "outputs": [
    {
     "name": "stdout",
     "output_type": "stream",
     "text": [
      "Enter your name: affan\n",
      "Enter your age: 33\n",
      "Are you male or female? MALE\n",
      "Are you willing to share your marital status? yes or no: NO\n",
      "You can work anywhere\n"
     ]
    }
   ],
   "source": [
    "name = input(\"Enter your name: \")\n",
    "age= int(input(\"Enter your age: \"))\n",
    "sex= input(\"Are you male or female? \")\n",
    "marital= input(\"Are you willing to share your marital status? yes or no: \")\n",
    "if marital.casefold()==\"yes\":\n",
    "    status= input(\"Enter your marital status, single or married or divorsed: \")\n",
    "if sex.casefold()==\"female\":\n",
    "    print(\"You can work only for urban areas\")\n",
    "elif sex.casefold()==\"male\" and age>=20 and age<40:\n",
    "    print(\"You can work anywhere\")\n",
    "elif sex.casefold()==\"male\" and age>=40 and age<=60:\n",
    "    print(\"You can work only in urban areas\")\n",
    "else:\n",
    "    print(\"ERROR\")\n"
   ]
  },
  {
   "cell_type": "raw",
   "id": "c4479b8e",
   "metadata": {},
   "source": [
    "QUESTION 5:\n",
    "Take 10 integers from keyboard using loop and print their average value on the screen."
   ]
  },
  {
   "cell_type": "code",
   "execution_count": 46,
   "id": "6b5afd5c",
   "metadata": {},
   "outputs": [
    {
     "name": "stdout",
     "output_type": "stream",
     "text": [
      "Input some integers to calculate their average.\n",
      "1\n",
      "1\n",
      "1\n",
      "1\n",
      "1\n",
      "1\n",
      "1\n",
      "1\n",
      "1\n",
      "1\n",
      "Average of the numbers are:  1.0\n"
     ]
    }
   ],
   "source": [
    "print(\"Input 10 integers to calculate their average.\")\n",
    "count =1\n",
    "sum = 0.0\n",
    "while count<=10:\n",
    "    number=int(input(\"\"))\n",
    "    sum=sum+number\n",
    "    average=sum/10.0\n",
    "    count += 1\n",
    "print(\"Average of the numbers are: \", average)"
   ]
  },
  {
   "cell_type": "raw",
   "id": "9f7c99f0",
   "metadata": {},
   "source": [
    "QUESTION 6:\n",
    "Write a program to calculate factorial of a number."
   ]
  },
  {
   "cell_type": "code",
   "execution_count": 52,
   "id": "c867e78e",
   "metadata": {},
   "outputs": [
    {
     "name": "stdout",
     "output_type": "stream",
     "text": [
      "Input number to find factorial: 8\n",
      "40320\n"
     ]
    }
   ],
   "source": [
    "import math as m\n",
    "f=int(input(\"Input number to find factorial: \"))\n",
    "fact=m.factorial(f)\n",
    "print(fact)"
   ]
  },
  {
   "cell_type": "raw",
   "id": "9c7f553d",
   "metadata": {},
   "source": [
    "QUESTION 7:\n",
    "Take integer inputs from user until he/she presses q ( Ask to press q to quit after every integer input ). Print average and product of all numbers."
   ]
  },
  {
   "cell_type": "code",
   "execution_count": 67,
   "id": "4333d281",
   "metadata": {},
   "outputs": [
    {
     "name": "stdout",
     "output_type": "stream",
     "text": [
      "Input your desired amount of numbers\n",
      "2\n",
      "would you like to quit?\n",
      " press q to quit the iteration or press any key to continue:d\n",
      "2\n",
      "would you like to quit?\n",
      " press q to quit the iteration or press any key to continue:d\n",
      "2\n",
      "would you like to quit?\n",
      " press q to quit the iteration or press any key to continue:r\n",
      "2\n",
      "would you like to quit?\n",
      " press q to quit the iteration or press any key to continue:q\n",
      "average=  2.0\n",
      "product=  16\n"
     ]
    }
   ],
   "source": [
    "print(\"Input your desired amount of numbers\")\n",
    "count=0\n",
    "sum=0\n",
    "product=1\n",
    "while count>=0:\n",
    "    number=int(input(\"\"))\n",
    "    sum+=number\n",
    "    product*=number\n",
    "    count+=1\n",
    "    value=input(\"would you like to quit?\\n press q to quit the iteration or press any key to continue:\")\n",
    "    if value==\"q\":\n",
    "        break\n",
    "    else:\n",
    "        continue\n",
    "print(\"average= \", sum/count)\n",
    "print(\"product= \", product)"
   ]
  },
  {
   "cell_type": "raw",
   "id": "96e670de",
   "metadata": {},
   "source": [
    "QUESTION 8:\n",
    "A three digit number is called Armstrong number if sum of cube of its digit is equal to number itself.\n",
    "E.g.- 153 is an Armstrong number because (13)+(53)+(33) = 153. Write all Armstrong numbers between 100 to 500."
   ]
  },
  {
   "cell_type": "code",
   "execution_count": 24,
   "id": "d09d597f",
   "metadata": {},
   "outputs": [
    {
     "name": "stdout",
     "output_type": "stream",
     "text": [
      "Enter a number between 100 to 500 to check if its Armstrong number or not: 400\n",
      "The given number is not Armstrong number\n"
     ]
    }
   ],
   "source": [
    "n=int(input(\"Enter a number between 100 to 500 to check if its Armstrong number or not: \"))\n",
    "if n>=100 and n<=500:\n",
    "    sum=0\n",
    "    temp=n\n",
    "    while temp>0:\n",
    "        rem=temp%10\n",
    "        sum=sum+(rem**3)\n",
    "        temp= temp//10\n",
    "    if sum==n:\n",
    "        print(\"The given number is Armstrong number\")\n",
    "    else:\n",
    "        print(\"The given number is not Armstrong number\")\n",
    "else:\n",
    "    print(\"Please enter number between 100-500\")\n"
   ]
  },
  {
   "cell_type": "raw",
   "id": "29435a67",
   "metadata": {},
   "source": [
    "QUESTION 9:\n",
    "Write a program to find the length of the string \"refrigerator\" without using len function.    "
   ]
  },
  {
   "cell_type": "code",
   "execution_count": 25,
   "id": "8b462dd0",
   "metadata": {},
   "outputs": [
    {
     "name": "stdout",
     "output_type": "stream",
     "text": [
      "12\n"
     ]
    }
   ],
   "source": [
    "st=\"refrigerator\"\n",
    "count=0\n",
    "for i in st:\n",
    "    count+=1\n",
    "print(count)"
   ]
  },
  {
   "cell_type": "raw",
   "id": "6ada12dd",
   "metadata": {},
   "source": [
    "QUESTION 10:\n",
    "Write a program that takes your full name as input and displays the abbreviations of the first and middle names except the last name which is displayed as it is. For example, if your name is Robert Brett Roser, then the output should be R.B.Roser."
   ]
  },
  {
   "cell_type": "code",
   "execution_count": 39,
   "id": "9e5d09c2",
   "metadata": {},
   "outputs": [
    {
     "name": "stdout",
     "output_type": "stream",
     "text": [
      "Enter your full name: Affan S Patel\n",
      "A. S. Patel\n"
     ]
    }
   ],
   "source": [
    "a=input(\"Enter your full name: \")\n",
    "a = a.split()\n",
    "b = a[0][0]+\". \"+a[1][0]+\". \"+a[2]\n",
    "print (b)"
   ]
  }
 ],
 "metadata": {
  "kernelspec": {
   "display_name": "Python 3",
   "language": "python",
   "name": "python3"
  },
  "language_info": {
   "codemirror_mode": {
    "name": "ipython",
    "version": 3
   },
   "file_extension": ".py",
   "mimetype": "text/x-python",
   "name": "python",
   "nbconvert_exporter": "python",
   "pygments_lexer": "ipython3",
   "version": "3.8.8"
  }
 },
 "nbformat": 4,
 "nbformat_minor": 5
}
